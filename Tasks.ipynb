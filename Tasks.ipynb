{
 "cells": [
  {
   "cell_type": "code",
   "execution_count": 1,
   "id": "2b726d30-52dd-4532-b2da-c25c9e7520d7",
   "metadata": {},
   "outputs": [
    {
     "ename": "SyntaxError",
     "evalue": "invalid syntax (1428380104.py, line 1)",
     "output_type": "error",
     "traceback": [
      "\u001b[1;36m  Cell \u001b[1;32mIn[1], line 1\u001b[1;36m\u001b[0m\n\u001b[1;33m    TASK:Emerging Technologies\u001b[0m\n\u001b[1;37m                  ^\u001b[0m\n\u001b[1;31mSyntaxError\u001b[0m\u001b[1;31m:\u001b[0m invalid syntax\n"
     ]
    }
   ],
   "source": [
    "TASK:Emerging Technologies\n",
    "Task 1:Collatz Conjecture"
   ]
  },
  {
   "cell_type": "code",
   "execution_count": 4,
   "id": "3032ea99-cf71-4a63-84cb-25e1ae77221d",
   "metadata": {},
   "outputs": [
    {
     "name": "stdout",
     "output_type": "stream",
     "text": [
      "The Collatz conjecture is verified for 9997 out of 10000 positive integers.\n"
     ]
    }
   ],
   "source": [
    "def collatz_sequence(n):\n",
    "    while n != 1:\n",
    "        if n % 2 == 0:\n",
    "            n = n // 2\n",
    "        else:\n",
    "            n = 3 * n + 1\n",
    "        yield n\n",
    "\n",
    "def verify_collatz_conjecture(limit):\n",
    "    count_verified = 0\n",
    "    for i in range(1, limit + 1):\n",
    "        sequence = list(collatz_sequence(i))\n",
    "        # Check if the sequence eventually reaches the repeating pattern 1, 4, 2, 1\n",
    "        if sequence[-3:] == [4, 2, 1]:\n",
    "            count_verified += 1\n",
    "\n",
    "    return count_verified\n",
    "\n",
    "# Verify Collatz conjecture for the first 10,000 positive integers\n",
    "count_verified = verify_collatz_conjecture(10000)\n",
    "\n",
    "# Print the count of numbers for which the Collatz conjecture is verified\n",
    "print(\"The Collatz conjecture is verified for\", count_verified, \"out of 10000 positive integers.\")\n",
    "\n",
    "\n"
   ]
  },
  {
   "cell_type": "code",
   "execution_count": null,
   "id": "34d444ef-0ab2-4010-87f5-604fb592a123",
   "metadata": {},
   "outputs": [],
   "source": [
    "TASK 2:Newtons Square root Method"
   ]
  },
  {
   "cell_type": "code",
   "execution_count": 5,
   "id": "fd022efe-73c8-4c6a-a161-bdd1016a5264",
   "metadata": {
    "tags": []
   },
   "outputs": [
    {
     "name": "stdout",
     "output_type": "stream",
     "text": [
      "5.000000000016778\n"
     ]
    }
   ],
   "source": [
    "def sqrt(x):\n",
    "    z0 = x / 2.0\n",
    "    threshold = 0.01 \n",
    "\n",
    "    #using Newtons method \n",
    "    while True:\n",
    "        z1 = 0.5 * (z0 + x / z0)  # Newtons formula\n",
    "\n",
    "        # Check for convergence\n",
    "        if abs(z1 - z0) < threshold:\n",
    "            return z1\n",
    "        \n",
    "        # Update the guess for the next iteration\n",
    "        z0 = z1\n",
    "\n",
    "# Example output using newtons method\n",
    "print(sqrt(25))  # Output should be : 5.0\n"
   ]
  },
  {
   "cell_type": "code",
   "execution_count": null,
   "id": "cf0d25a4-76f3-4de1-ba7e-f4a71100b13c",
   "metadata": {},
   "outputs": [],
   "source": [
    "Task 3:"
   ]
  },
  {
   "cell_type": "code",
   "execution_count": 6,
   "id": "4069673e-77c7-4357-8f9a-e4eb8ed85cde",
   "metadata": {
    "tags": []
   },
   "outputs": [
    {
     "name": "stdout",
     "output_type": "stream",
     "text": [
      "Determined function:\n",
      "Function(0000) = 0\n",
      "Function(0001) = 0\n",
      "Function(0010) = 0\n",
      "Function(0011) = 1\n",
      "Function(0100) = 0\n",
      "Function(0101) = 1\n",
      "Function(0110) = 1\n",
      "Function(0111) = 0\n",
      "Function(1000) = 0\n",
      "Function(1001) = 0\n",
      "Function(1010) = 0\n",
      "Function(1011) = 1\n",
      "Function(1100) = 0\n",
      "Function(1101) = 0\n",
      "Function(1110) = 1\n",
      "Function(1111) = 1\n"
     ]
    }
   ],
   "source": [
    "import random\n",
    "\n",
    "# Define a random 4-bit function\n",
    "def random_4bit_function(input_bits):\n",
    "    return random.choice([0, 1])\n",
    "\n",
    "# Call the function with all possible input combinations\n",
    "def determine_function(random_function):\n",
    "    functions = {}\n",
    "    for i in range(16):\n",
    "        input_bits = format(i, '04b')\n",
    "        output = random_function(input_bits)\n",
    "        functions[input_bits] = output\n",
    "\n",
    "    return functions\n",
    "\n",
    "# Select a random 4-bit function\n",
    "random_function = random_4bit_function\n",
    "\n",
    "# Determine the function by calling it with all possible inputs\n",
    "determined_function = determine_function(random_function)\n",
    "\n",
    "# Print the determined function\n",
    "print(\"Determined function:\")\n",
    "for input_bits, output in determined_function.items():\n",
    "    print(f\"Function({input_bits}) = {output}\")\n"
   ]
  },
  {
   "cell_type": "code",
   "execution_count": null,
   "id": "4ddcbe7d-407e-4b83-95a1-7664dfcc6139",
   "metadata": {},
   "outputs": [],
   "source": [
    "Task 4:"
   ]
  }
 ],
 "metadata": {
  "kernelspec": {
   "display_name": "Python 3 (ipykernel)",
   "language": "python",
   "name": "python3"
  },
  "language_info": {
   "codemirror_mode": {
    "name": "ipython",
    "version": 3
   },
   "file_extension": ".py",
   "mimetype": "text/x-python",
   "name": "python",
   "nbconvert_exporter": "python",
   "pygments_lexer": "ipython3",
   "version": "3.11.4"
  }
 },
 "nbformat": 4,
 "nbformat_minor": 5
}
