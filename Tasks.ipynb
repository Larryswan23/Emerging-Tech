{
 "cells": [
  {
   "cell_type": "code",
   "execution_count": null,
   "id": "2b726d30-52dd-4532-b2da-c25c9e7520d7",
   "metadata": {},
   "outputs": [],
   "source": [
    "TASK:Emerging Technologies\n",
    "Task 1:Collatz Conjecture"
   ]
  },
  {
   "cell_type": "code",
   "execution_count": 4,
   "id": "3032ea99-cf71-4a63-84cb-25e1ae77221d",
   "metadata": {},
   "outputs": [
    {
     "name": "stdout",
     "output_type": "stream",
     "text": [
      "The Collatz conjecture is verified for 9997 out of 10000 positive integers.\n"
     ]
    }
   ],
   "source": [
    "def collatz_sequence(n):\n",
    "    while n != 1:\n",
    "        if n % 2 == 0:\n",
    "            n = n // 2\n",
    "        else:\n",
    "            n = 3 * n + 1\n",
    "        yield n\n",
    "\n",
    "def verify_collatz_conjecture(limit):\n",
    "    count_verified = 0\n",
    "    for i in range(1, limit + 1):\n",
    "        sequence = list(collatz_sequence(i))\n",
    "        # Check if the sequence eventually reaches the repeating pattern 1, 4, 2, 1\n",
    "        if sequence[-3:] == [4, 2, 1]:\n",
    "            count_verified += 1\n",
    "\n",
    "    return count_verified\n",
    "\n",
    "# Verify Collatz conjecture for the first 10,000 positive integers\n",
    "count_verified = verify_collatz_conjecture(10000)\n",
    "\n",
    "# Print the count of numbers for which the Collatz conjecture is verified\n",
    "print(\"The Collatz conjecture is verified for\", count_verified, \"out of 10000 positive integers.\")\n",
    "\n",
    "\n"
   ]
  },
  {
   "cell_type": "code",
   "execution_count": null,
   "id": "34d444ef-0ab2-4010-87f5-604fb592a123",
   "metadata": {},
   "outputs": [],
   "source": [
    "TASK 2:"
   ]
  }
 ],
 "metadata": {
  "kernelspec": {
   "display_name": "Python 3 (ipykernel)",
   "language": "python",
   "name": "python3"
  },
  "language_info": {
   "codemirror_mode": {
    "name": "ipython",
    "version": 3
   },
   "file_extension": ".py",
   "mimetype": "text/x-python",
   "name": "python",
   "nbconvert_exporter": "python",
   "pygments_lexer": "ipython3",
   "version": "3.11.4"
  }
 },
 "nbformat": 4,
 "nbformat_minor": 5
}
