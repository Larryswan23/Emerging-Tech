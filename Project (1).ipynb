{
 "cells": [
  {
   "cell_type": "code",
   "execution_count": 9,
   "id": "13432397",
   "metadata": {},
   "outputs": [
    {
     "name": "stdout",
     "output_type": "stream",
     "text": [
      "Requirement already satisfied: qiskit in c:\\users\\larry\\anaconda3\\envs\\qiskit\\lib\\site-packages (0.44.2)\n",
      "Requirement already satisfied: qiskit-terra==0.25.2.1 in c:\\users\\larry\\anaconda3\\envs\\qiskit\\lib\\site-packages (from qiskit) (0.25.2.1)\n",
      "Requirement already satisfied: rustworkx>=0.13.0 in c:\\users\\larry\\anaconda3\\envs\\qiskit\\lib\\site-packages (from qiskit-terra==0.25.2.1->qiskit) (0.13.2)\n",
      "Requirement already satisfied: numpy>=1.17 in c:\\users\\larry\\anaconda3\\envs\\qiskit\\lib\\site-packages (from qiskit-terra==0.25.2.1->qiskit) (1.26.0)\n",
      "Requirement already satisfied: ply>=3.10 in c:\\users\\larry\\anaconda3\\envs\\qiskit\\lib\\site-packages (from qiskit-terra==0.25.2.1->qiskit) (3.11)\n",
      "Requirement already satisfied: psutil>=5 in c:\\users\\larry\\anaconda3\\envs\\qiskit\\lib\\site-packages (from qiskit-terra==0.25.2.1->qiskit) (5.9.0)\n",
      "Requirement already satisfied: scipy>=1.5 in c:\\users\\larry\\anaconda3\\envs\\qiskit\\lib\\site-packages (from qiskit-terra==0.25.2.1->qiskit) (1.11.3)\n",
      "Requirement already satisfied: sympy>=1.3 in c:\\users\\larry\\anaconda3\\envs\\qiskit\\lib\\site-packages (from qiskit-terra==0.25.2.1->qiskit) (1.12)\n",
      "Requirement already satisfied: dill>=0.3 in c:\\users\\larry\\anaconda3\\envs\\qiskit\\lib\\site-packages (from qiskit-terra==0.25.2.1->qiskit) (0.3.7)\n",
      "Requirement already satisfied: python-dateutil>=2.8.0 in c:\\users\\larry\\anaconda3\\envs\\qiskit\\lib\\site-packages (from qiskit-terra==0.25.2.1->qiskit) (2.8.2)\n",
      "Requirement already satisfied: stevedore>=3.0.0 in c:\\users\\larry\\anaconda3\\envs\\qiskit\\lib\\site-packages (from qiskit-terra==0.25.2.1->qiskit) (5.1.0)\n",
      "Requirement already satisfied: six>=1.5 in c:\\users\\larry\\anaconda3\\envs\\qiskit\\lib\\site-packages (from python-dateutil>=2.8.0->qiskit-terra==0.25.2.1->qiskit) (1.16.0)\n",
      "Requirement already satisfied: pbr!=2.1.0,>=2.0.0 in c:\\users\\larry\\anaconda3\\envs\\qiskit\\lib\\site-packages (from stevedore>=3.0.0->qiskit-terra==0.25.2.1->qiskit) (5.11.1)\n",
      "Requirement already satisfied: mpmath>=0.19 in c:\\users\\larry\\anaconda3\\envs\\qiskit\\lib\\site-packages (from sympy>=1.3->qiskit-terra==0.25.2.1->qiskit) (1.3.0)\n"
     ]
    }
   ],
   "source": [
    "!pip install qiskit"
   ]
  },
  {
   "cell_type": "code",
   "execution_count": 10,
   "id": "8ed72587",
   "metadata": {},
   "outputs": [],
   "source": [
    "import qiskit\n"
   ]
  },
  {
   "cell_type": "code",
   "execution_count": 11,
   "id": "4275e722",
   "metadata": {},
   "outputs": [],
   "source": [
    " from qiskit import QuantumCircuit, QuantumRegister, ClassicalRegister"
   ]
  },
  {
   "cell_type": "code",
   "execution_count": 12,
   "id": "4d760ea2",
   "metadata": {},
   "outputs": [],
   "source": [
    " X = QuantumRegister(1, \"x\")"
   ]
  },
  {
   "cell_type": "code",
   "execution_count": 13,
   "id": "da963edc",
   "metadata": {},
   "outputs": [
    {
     "data": {
      "text/plain": [
       "<qiskit.circuit.instructionset.InstructionSet at 0x235c166c6a0>"
      ]
     },
     "execution_count": 13,
     "metadata": {},
     "output_type": "execute_result"
    }
   ],
   "source": [
    "Y = QuantumRegister(1, \"y\")\n",
    "A = ClassicalRegister(1, \"a\")\n",
    "B = ClassicalRegister(1, \"b\")\n",
    "circuit = QuantumCircuit(Y, X, B, A)\n",
    "circuit.h(Y)\n",
    "circuit.cx(Y, X)"
   ]
  },
  {
   "cell_type": "code",
   "execution_count": 14,
   "id": "52faa4ca",
   "metadata": {},
   "outputs": [
    {
     "data": {
      "text/html": [
       "<pre style=\"word-wrap: normal;white-space: pre;background: #fff0;line-height: 1.1;font-family: &quot;Courier New&quot;,Courier,monospace\">     ┌───┐     ┌─┐   \n",
       "  y: ┤ H ├──■──┤M├───\n",
       "     └───┘┌─┴─┐└╥┘┌─┐\n",
       "  x: ─────┤ X ├─╫─┤M├\n",
       "          └───┘ ║ └╥┘\n",
       "b: 1/═══════════╩══╬═\n",
       "                0  ║ \n",
       "a: 1/══════════════╩═\n",
       "                   0 </pre>"
      ],
      "text/plain": [
       "     ┌───┐     ┌─┐   \n",
       "  y: ┤ H ├──■──┤M├───\n",
       "     └───┘┌─┴─┐└╥┘┌─┐\n",
       "  x: ─────┤ X ├─╫─┤M├\n",
       "          └───┘ ║ └╥┘\n",
       "b: 1/═══════════╩══╬═\n",
       "                0  ║ \n",
       "a: 1/══════════════╩═\n",
       "                   0 "
      ]
     },
     "execution_count": 14,
     "metadata": {},
     "output_type": "execute_result"
    }
   ],
   "source": [
    "circuit.measure(Y, B)\n",
    "circuit.measure(X, A)\n",
    "circuit.draw()"
   ]
  },
  {
   "cell_type": "markdown",
   "id": "966dae44",
   "metadata": {},
   "source": [
    "# # Deutsch's Algorithm Exploration\n",
    "\n",
    "The goal of this Jupyter Notebook is to investigate Deutsch's Algorithm, a basic quantum algorithm that, in contrast to classical methods, effectively solves a particular problem.\n",
    "\n",
    "The problem statement, the traditional solution, and an in-depth analysis of Deutsch's approach will all be covered. To explain each stage, the notebook will include LaTeX notation, Markdown, tables, and charts.\n",
    "\n",
    "\n",
    "\n",
    "\n"
   ]
  },
  {
   "cell_type": "markdown",
   "id": "99465a18",
   "metadata": {},
   "source": [
    "# ## Problem Statement\n",
    "\n",
    "A classical function \\( f: \\{0,1\\} \\rightarrow \\{0,1\\} \\) is considered. This function may be balanced or constant. The goal is to identify the function type with the fewest number of inquiries.\n",
    "\n",
    "\n",
    "| Input (x) | Output (f(x)) |\n",
    "|-----------|---------------|\n",
    "| 0         | ?             |\n",
    "| 1         | ?             |\n",
    "\n",
    "To determine if the function in the classical case is constant or balanced, at least two questions must be answered. A single query for every potential input.\n"
   ]
  },
  {
   "cell_type": "markdown",
   "id": "032c8a85",
   "metadata": {},
   "source": [
    "# ## Deutsch's Algorithm\n",
    "\n",
    "In terms of efficiency, Deutsch's algorithm is a quantum solution that works better than classical techniques. It uses just one query to get the same result.\n",
    "\n",
    "### Quantum Circuit Overview\n",
    "A quantum oracle and a specially designed quantum circuit with Hadamard gates and measurement operations are used in Deutsch's method.\n",
    "\n",
    "#### Quantum Oracle\n",
    "\n",
    "The quantum oracle performs the transformation like this:\n",
    "\n",
    "\\[ U_f |x, y\\rangle = |x, y \\oplus f(x)\\rangle \\]\n",
    "\n",
    "Here, the bitwise XOR operation is denoted by \\( \\oplus \\). Based on the function \\( f(x) \\), the oracle modifies the quantum state, offering quantum parallelism for function evaluation.\n",
    "\n",
    "\n",
    "\n",
    "\n"
   ]
  },
  {
   "cell_type": "code",
   "execution_count": 8,
   "id": "1684a5f9",
   "metadata": {},
   "outputs": [
    {
     "name": "stdout",
     "output_type": "stream",
     "text": [
      "Requirement already satisfied: qiskit-aer in c:\\users\\larry\\anaconda3\\lib\\site-packages (0.13.1)\n",
      "Requirement already satisfied: qiskit>=0.44.0 in c:\\users\\larry\\anaconda3\\lib\\site-packages (from qiskit-aer) (0.44.2)\n",
      "Requirement already satisfied: numpy>=1.16.3 in c:\\users\\larry\\anaconda3\\lib\\site-packages (from qiskit-aer) (1.24.3)\n",
      "Requirement already satisfied: scipy>=1.0 in c:\\users\\larry\\anaconda3\\lib\\site-packages (from qiskit-aer) (1.10.1)\n",
      "Requirement already satisfied: psutil>=5 in c:\\users\\larry\\anaconda3\\lib\\site-packages (from qiskit-aer) (5.9.0)\n",
      "Requirement already satisfied: qiskit-terra==0.25.2.1 in c:\\users\\larry\\anaconda3\\lib\\site-packages (from qiskit>=0.44.0->qiskit-aer) (0.25.2.1)\n",
      "Requirement already satisfied: rustworkx>=0.13.0 in c:\\users\\larry\\anaconda3\\lib\\site-packages (from qiskit-terra==0.25.2.1->qiskit>=0.44.0->qiskit-aer) (0.13.2)\n",
      "Requirement already satisfied: ply>=3.10 in c:\\users\\larry\\anaconda3\\lib\\site-packages (from qiskit-terra==0.25.2.1->qiskit>=0.44.0->qiskit-aer) (3.11)\n",
      "Requirement already satisfied: sympy>=1.3 in c:\\users\\larry\\anaconda3\\lib\\site-packages (from qiskit-terra==0.25.2.1->qiskit>=0.44.0->qiskit-aer) (1.11.1)\n",
      "Requirement already satisfied: dill>=0.3 in c:\\users\\larry\\anaconda3\\lib\\site-packages (from qiskit-terra==0.25.2.1->qiskit>=0.44.0->qiskit-aer) (0.3.6)\n",
      "Requirement already satisfied: python-dateutil>=2.8.0 in c:\\users\\larry\\anaconda3\\lib\\site-packages (from qiskit-terra==0.25.2.1->qiskit>=0.44.0->qiskit-aer) (2.8.2)\n",
      "Requirement already satisfied: stevedore>=3.0.0 in c:\\users\\larry\\anaconda3\\lib\\site-packages (from qiskit-terra==0.25.2.1->qiskit>=0.44.0->qiskit-aer) (5.1.0)\n",
      "Requirement already satisfied: six>=1.5 in c:\\users\\larry\\anaconda3\\lib\\site-packages (from python-dateutil>=2.8.0->qiskit-terra==0.25.2.1->qiskit>=0.44.0->qiskit-aer) (1.16.0)\n",
      "Requirement already satisfied: pbr!=2.1.0,>=2.0.0 in c:\\users\\larry\\anaconda3\\lib\\site-packages (from stevedore>=3.0.0->qiskit-terra==0.25.2.1->qiskit>=0.44.0->qiskit-aer) (5.11.1)\n",
      "Requirement already satisfied: mpmath>=0.19 in c:\\users\\larry\\anaconda3\\lib\\site-packages (from sympy>=1.3->qiskit-terra==0.25.2.1->qiskit>=0.44.0->qiskit-aer) (1.3.0)\n"
     ]
    },
    {
     "data": {
      "image/png": "[encoded data removed]",
      "text/plain": [
       "<Figure size 621.739x284.278 with 1 Axes>"
      ]
     },
     "execution_count": 8,
     "metadata": {},
     "output_type": "execute_result"
    }
   ],
   "source": [
    "# Install qiskit-aer library\n",
    "!pip install qiskit-aer\n",
    "\n",
    "# Import necessary libraries\n",
    "from qiskit import QuantumCircuit, Aer, transpile, assemble, execute\n",
    "\n",
    "# Define the Deutsch quantum circuit\n",
    "def deutsch_circuit():\n",
    "    # Create a quantum circuit with two qubits and two classical bits\n",
    "    qc = QuantumCircuit(2, 2)\n",
    "\n",
    "    #Hadamard gate\n",
    "    qc.h(0)\n",
    "    qc.h(1)\n",
    "\n",
    "    #quantum oracle\n",
    "    qc.x(1)\n",
    "    qc.cx(0, 1)\n",
    "    qc.x(1)\n",
    "\n",
    "    #Hadamard gate \n",
    "    qc.h(0)\n",
    "    \n",
    "    qc.measure(0, 0)\n",
    "    qc.measure(1, 1)\n",
    "\n",
    "    return qc\n",
    "\n",
    "# Visualize the circuit\n",
    "deutsch_circuit().draw('mpl')\n"
   ]
  },
  {
   "cell_type": "code",
   "execution_count": 9,
   "id": "44e2190f",
   "metadata": {},
   "outputs": [
    {
     "ename": "MissingOptionalLibraryError",
     "evalue": "\"The 'qiskit-aer' library is required to use 'Aer provider'. You can install it with 'pip install qiskit-aer'.\"",
     "output_type": "error",
     "traceback": [
      "\u001b[1;31m---------------------------------------------------------------------------\u001b[0m",
      "\u001b[1;31mImportError\u001b[0m                               Traceback (most recent call last)",
      "File \u001b[1;32m~\\anaconda3\\Lib\\site-packages\\qiskit\\__init__.py:123\u001b[0m, in \u001b[0;36mAerWrapper.__getattr__\u001b[1;34m(self, attr)\u001b[0m\n\u001b[0;32m    122\u001b[0m \u001b[38;5;28;01mtry\u001b[39;00m:\n\u001b[1;32m--> 123\u001b[0m     \u001b[38;5;28;01mfrom\u001b[39;00m \u001b[38;5;21;01mqiskit\u001b[39;00m\u001b[38;5;21;01m.\u001b[39;00m\u001b[38;5;21;01mproviders\u001b[39;00m \u001b[38;5;28;01mimport\u001b[39;00m aer\n\u001b[0;32m    125\u001b[0m     \u001b[38;5;28mself\u001b[39m\u001b[38;5;241m.\u001b[39maer \u001b[38;5;241m=\u001b[39m aer\u001b[38;5;241m.\u001b[39mAer\n",
      "File \u001b[1;32m~\\anaconda3\\Lib\\site-packages\\qiskit\\namespace.py:68\u001b[0m, in \u001b[0;36mQiskitElementImport.find_spec\u001b[1;34m(self, fullname, path, target)\u001b[0m\n\u001b[0;32m     67\u001b[0m \u001b[38;5;28;01mtry\u001b[39;00m:\n\u001b[1;32m---> 68\u001b[0m     importlib\u001b[38;5;241m.\u001b[39mimport_module(\n\u001b[0;32m     69\u001b[0m         _new_namespace(fullname, \u001b[38;5;28mself\u001b[39m\u001b[38;5;241m.\u001b[39mold_namespace, \u001b[38;5;28mself\u001b[39m\u001b[38;5;241m.\u001b[39mnew_package)\n\u001b[0;32m     70\u001b[0m     )\n\u001b[0;32m     71\u001b[0m     \u001b[38;5;28;01mreturn\u001b[39;00m importlib\u001b[38;5;241m.\u001b[39mutil\u001b[38;5;241m.\u001b[39mspec_from_loader(\n\u001b[0;32m     72\u001b[0m         fullname, QiskitLoader(\u001b[38;5;28mself\u001b[39m\u001b[38;5;241m.\u001b[39mnew_package, \u001b[38;5;28mself\u001b[39m\u001b[38;5;241m.\u001b[39mold_namespace), origin\u001b[38;5;241m=\u001b[39m\u001b[38;5;124m\"\u001b[39m\u001b[38;5;124mqiskit\u001b[39m\u001b[38;5;124m\"\u001b[39m\n\u001b[0;32m     73\u001b[0m     )\n",
      "File \u001b[1;32m~\\anaconda3\\Lib\\importlib\\__init__.py:126\u001b[0m, in \u001b[0;36mimport_module\u001b[1;34m(name, package)\u001b[0m\n\u001b[0;32m    125\u001b[0m         level \u001b[38;5;241m+\u001b[39m\u001b[38;5;241m=\u001b[39m \u001b[38;5;241m1\u001b[39m\n\u001b[1;32m--> 126\u001b[0m \u001b[38;5;28;01mreturn\u001b[39;00m _bootstrap\u001b[38;5;241m.\u001b[39m_gcd_import(name[level:], package, level)\n",
      "File \u001b[1;32m~\\anaconda3\\Lib\\site-packages\\qiskit_aer\\__init__.py:69\u001b[0m\n\u001b[0;32m     66\u001b[0m \u001b[38;5;66;03m# ... ¯\\_(ツ)_/¯\u001b[39;00m\n\u001b[0;32m     67\u001b[0m \n\u001b[0;32m     68\u001b[0m \u001b[38;5;66;03m# pylint: disable=wrong-import-position\u001b[39;00m\n\u001b[1;32m---> 69\u001b[0m \u001b[38;5;28;01mfrom\u001b[39;00m \u001b[38;5;21;01mqiskit_aer\u001b[39;00m\u001b[38;5;21;01m.\u001b[39;00m\u001b[38;5;21;01maerprovider\u001b[39;00m \u001b[38;5;28;01mimport\u001b[39;00m AerProvider\n\u001b[0;32m     70\u001b[0m \u001b[38;5;28;01mfrom\u001b[39;00m \u001b[38;5;21;01mqiskit_aer\u001b[39;00m\u001b[38;5;21;01m.\u001b[39;00m\u001b[38;5;21;01mjobs\u001b[39;00m \u001b[38;5;28;01mimport\u001b[39;00m AerJob, AerJobSet\n",
      "File \u001b[1;32m~\\anaconda3\\Lib\\site-packages\\qiskit_aer\\aerprovider.py:20\u001b[0m\n\u001b[0;32m     18\u001b[0m \u001b[38;5;28;01mfrom\u001b[39;00m \u001b[38;5;21;01mqiskit\u001b[39;00m\u001b[38;5;21;01m.\u001b[39;00m\u001b[38;5;21;01mproviders\u001b[39;00m\u001b[38;5;21;01m.\u001b[39;00m\u001b[38;5;21;01mproviderutils\u001b[39;00m \u001b[38;5;28;01mimport\u001b[39;00m filter_backends\n\u001b[1;32m---> 20\u001b[0m \u001b[38;5;28;01mfrom\u001b[39;00m \u001b[38;5;21;01m.\u001b[39;00m\u001b[38;5;21;01mbackends\u001b[39;00m\u001b[38;5;21;01m.\u001b[39;00m\u001b[38;5;21;01maer_simulator\u001b[39;00m \u001b[38;5;28;01mimport\u001b[39;00m AerSimulator\n\u001b[0;32m     21\u001b[0m \u001b[38;5;28;01mfrom\u001b[39;00m \u001b[38;5;21;01m.\u001b[39;00m\u001b[38;5;21;01mbackends\u001b[39;00m\u001b[38;5;21;01m.\u001b[39;00m\u001b[38;5;21;01mqasm_simulator\u001b[39;00m \u001b[38;5;28;01mimport\u001b[39;00m QasmSimulator\n",
      "File \u001b[1;32m~\\anaconda3\\Lib\\site-packages\\qiskit_aer\\backends\\__init__.py:17\u001b[0m\n\u001b[0;32m     13\u001b[0m \u001b[38;5;124;03m\"\"\"\u001b[39;00m\n\u001b[0;32m     14\u001b[0m \u001b[38;5;124;03mAer Provider Simulator Backends\u001b[39;00m\n\u001b[0;32m     15\u001b[0m \u001b[38;5;124;03m\"\"\"\u001b[39;00m\n\u001b[1;32m---> 17\u001b[0m \u001b[38;5;28;01mfrom\u001b[39;00m \u001b[38;5;21;01m.\u001b[39;00m\u001b[38;5;21;01maer_simulator\u001b[39;00m \u001b[38;5;28;01mimport\u001b[39;00m AerSimulator\n\u001b[0;32m     18\u001b[0m \u001b[38;5;28;01mfrom\u001b[39;00m \u001b[38;5;21;01m.\u001b[39;00m\u001b[38;5;21;01mqasm_simulator\u001b[39;00m \u001b[38;5;28;01mimport\u001b[39;00m QasmSimulator\n",
      "File \u001b[1;32m~\\anaconda3\\Lib\\site-packages\\qiskit_aer\\backends\\aer_simulator.py:24\u001b[0m\n\u001b[0;32m     23\u001b[0m \u001b[38;5;28;01mfrom\u001b[39;00m \u001b[38;5;21;01m.\u001b[39;00m\u001b[38;5;21;01m.\u001b[39;00m\u001b[38;5;21;01mversion\u001b[39;00m \u001b[38;5;28;01mimport\u001b[39;00m __version__\n\u001b[1;32m---> 24\u001b[0m \u001b[38;5;28;01mfrom\u001b[39;00m \u001b[38;5;21;01m.\u001b[39;00m\u001b[38;5;21;01maerbackend\u001b[39;00m \u001b[38;5;28;01mimport\u001b[39;00m AerBackend, AerError\n\u001b[0;32m     25\u001b[0m \u001b[38;5;28;01mfrom\u001b[39;00m \u001b[38;5;21;01m.\u001b[39;00m\u001b[38;5;21;01mbackend_utils\u001b[39;00m \u001b[38;5;28;01mimport\u001b[39;00m (\n\u001b[0;32m     26\u001b[0m     cpp_execute_circuits,\n\u001b[0;32m     27\u001b[0m     cpp_execute_qobj,\n\u001b[1;32m   (...)\u001b[0m\n\u001b[0;32m     31\u001b[0m     BASIS_GATES,\n\u001b[0;32m     32\u001b[0m )\n",
      "File \u001b[1;32m~\\anaconda3\\Lib\\site-packages\\qiskit_aer\\backends\\aerbackend.py:39\u001b[0m\n\u001b[0;32m     38\u001b[0m \u001b[38;5;28;01mfrom\u001b[39;00m \u001b[38;5;21;01m.\u001b[39;00m\u001b[38;5;21;01mbackend_utils\u001b[39;00m \u001b[38;5;28;01mimport\u001b[39;00m format_save_type, circuit_optypes\n\u001b[1;32m---> 39\u001b[0m \u001b[38;5;28;01mfrom\u001b[39;00m \u001b[38;5;21;01m.\u001b[39;00m\u001b[38;5;21;01mname_mapping\u001b[39;00m \u001b[38;5;28;01mimport\u001b[39;00m NAME_MAPPING\n\u001b[0;32m     41\u001b[0m \u001b[38;5;66;03m# pylint: disable=import-error, no-name-in-module, abstract-method\u001b[39;00m\n",
      "File \u001b[1;32m~\\anaconda3\\Lib\\site-packages\\qiskit_aer\\backends\\name_mapping.py:19\u001b[0m\n\u001b[0;32m     18\u001b[0m \u001b[38;5;28;01mfrom\u001b[39;00m \u001b[38;5;21;01mqiskit\u001b[39;00m\u001b[38;5;21;01m.\u001b[39;00m\u001b[38;5;21;01mcircuit\u001b[39;00m\u001b[38;5;21;01m.\u001b[39;00m\u001b[38;5;21;01mreset\u001b[39;00m \u001b[38;5;28;01mimport\u001b[39;00m Reset\n\u001b[1;32m---> 19\u001b[0m \u001b[38;5;28;01mfrom\u001b[39;00m \u001b[38;5;21;01mqiskit\u001b[39;00m\u001b[38;5;21;01m.\u001b[39;00m\u001b[38;5;21;01mcircuit\u001b[39;00m\u001b[38;5;21;01m.\u001b[39;00m\u001b[38;5;21;01mlibrary\u001b[39;00m \u001b[38;5;28;01mimport\u001b[39;00m (\n\u001b[0;32m     20\u001b[0m     U2Gate,\n\u001b[0;32m     21\u001b[0m     RGate,\n\u001b[0;32m     22\u001b[0m     CYGate,\n\u001b[0;32m     23\u001b[0m     CZGate,\n\u001b[0;32m     24\u001b[0m     CSXGate,\n\u001b[0;32m     25\u001b[0m     CU3Gate,\n\u001b[0;32m     26\u001b[0m     CSwapGate,\n\u001b[0;32m     27\u001b[0m     PauliGate,\n\u001b[0;32m     28\u001b[0m     DiagonalGate,\n\u001b[0;32m     29\u001b[0m     UnitaryGate,\n\u001b[0;32m     30\u001b[0m     MCPhaseGate,\n\u001b[0;32m     31\u001b[0m     MCXGate,\n\u001b[0;32m     32\u001b[0m     CRXGate,\n\u001b[0;32m     33\u001b[0m     CRYGate,\n\u001b[0;32m     34\u001b[0m     CRZGate,\n\u001b[0;32m     35\u001b[0m     MCU1Gate,\n\u001b[0;32m     36\u001b[0m     MCXGrayCode,\n\u001b[0;32m     37\u001b[0m )\n\u001b[0;32m     38\u001b[0m \u001b[38;5;28;01mfrom\u001b[39;00m \u001b[38;5;21;01mqiskit\u001b[39;00m\u001b[38;5;21;01m.\u001b[39;00m\u001b[38;5;21;01mcircuit\u001b[39;00m\u001b[38;5;21;01m.\u001b[39;00m\u001b[38;5;21;01mcontrolflow\u001b[39;00m \u001b[38;5;28;01mimport\u001b[39;00m (\n\u001b[0;32m     39\u001b[0m     IfElseOp,\n\u001b[0;32m     40\u001b[0m     WhileLoopOp,\n\u001b[1;32m   (...)\u001b[0m\n\u001b[0;32m     44\u001b[0m     SwitchCaseOp,\n\u001b[0;32m     45\u001b[0m )\n",
      "\u001b[1;31mImportError\u001b[0m: cannot import name 'DiagonalGate' from 'qiskit.circuit.library' (C:\\Users\\larry\\anaconda3\\Lib\\site-packages\\qiskit\\circuit\\library\\__init__.py)",
      "\nThe above exception was the direct cause of the following exception:\n",
      "\u001b[1;31mMissingOptionalLibraryError\u001b[0m               Traceback (most recent call last)",
      "Cell \u001b[1;32mIn[9], line 2\u001b[0m\n\u001b[0;32m      1\u001b[0m \u001b[38;5;66;03m# Simulate the circuit\u001b[39;00m\n\u001b[1;32m----> 2\u001b[0m simulator \u001b[38;5;241m=\u001b[39m Aer\u001b[38;5;241m.\u001b[39mget_backend(\u001b[38;5;124m'\u001b[39m\u001b[38;5;124mqasm_simulator\u001b[39m\u001b[38;5;124m'\u001b[39m)\n\u001b[0;32m      3\u001b[0m compiled_circuit \u001b[38;5;241m=\u001b[39m transpile(deutsch_circuit(), simulator)\n\u001b[0;32m      4\u001b[0m result \u001b[38;5;241m=\u001b[39m execute(compiled_circuit, simulator)\u001b[38;5;241m.\u001b[39mresult()\n",
      "File \u001b[1;32m~\\anaconda3\\Lib\\site-packages\\qiskit\\__init__.py:134\u001b[0m, in \u001b[0;36mAerWrapper.__getattr__\u001b[1;34m(self, attr)\u001b[0m\n\u001b[0;32m    126\u001b[0m         warnings\u001b[38;5;241m.\u001b[39mwarn(\n\u001b[0;32m    127\u001b[0m             \u001b[38;5;124m\"\u001b[39m\u001b[38;5;124mThe qiskit.Aer entry point will be deprecated in a future release and \u001b[39m\u001b[38;5;124m\"\u001b[39m\n\u001b[0;32m    128\u001b[0m             \u001b[38;5;124m\"\u001b[39m\u001b[38;5;124msubsequently removed. Instead you should use this \u001b[39m\u001b[38;5;124m\"\u001b[39m\n\u001b[1;32m   (...)\u001b[0m\n\u001b[0;32m    131\u001b[0m             stacklevel\u001b[38;5;241m=\u001b[39m\u001b[38;5;241m2\u001b[39m,\n\u001b[0;32m    132\u001b[0m         )\n\u001b[0;32m    133\u001b[0m     \u001b[38;5;28;01mexcept\u001b[39;00m \u001b[38;5;167;01mImportError\u001b[39;00m \u001b[38;5;28;01mas\u001b[39;00m ex:\n\u001b[1;32m--> 134\u001b[0m         \u001b[38;5;28;01mraise\u001b[39;00m MissingOptionalLibraryError(\n\u001b[0;32m    135\u001b[0m             \u001b[38;5;124m\"\u001b[39m\u001b[38;5;124mqiskit-aer\u001b[39m\u001b[38;5;124m\"\u001b[39m, \u001b[38;5;124m\"\u001b[39m\u001b[38;5;124mAer provider\u001b[39m\u001b[38;5;124m\"\u001b[39m, \u001b[38;5;124m\"\u001b[39m\u001b[38;5;124mpip install qiskit-aer\u001b[39m\u001b[38;5;124m\"\u001b[39m\n\u001b[0;32m    136\u001b[0m         ) \u001b[38;5;28;01mfrom\u001b[39;00m \u001b[38;5;21;01mex\u001b[39;00m\n\u001b[0;32m    137\u001b[0m \u001b[38;5;28;01mreturn\u001b[39;00m \u001b[38;5;28mgetattr\u001b[39m(\u001b[38;5;28mself\u001b[39m\u001b[38;5;241m.\u001b[39maer, attr)\n",
      "\u001b[1;31mMissingOptionalLibraryError\u001b[0m: \"The 'qiskit-aer' library is required to use 'Aer provider'. You can install it with 'pip install qiskit-aer'.\""
     ]
    }
   ],
   "source": [
    "# Simulate the circuit\n",
    "simulator = Aer.get_backend('qasm_simulator')\n",
    "compiled_circuit = transpile(deutsch_circuit(), simulator)\n",
    "result = execute(compiled_circuit, simulator).result()\n",
    "\n",
    "# Display results\n",
    "counts = result.get_counts()\n",
    "print(\"Simulation Results:\", counts)\n"
   ]
  },
  {
   "cell_type": "code",
   "execution_count": null,
   "id": "e8ae5261",
   "metadata": {},
   "outputs": [],
   "source": []
  }
 ],
 "metadata": {
  "kernelspec": {
   "display_name": "Python 3 (ipykernel)",
   "language": "python",
   "name": "python3"
  },
  "language_info": {
   "codemirror_mode": {
    "name": "ipython",
    "version": 3
   },
   "file_extension": ".py",
   "mimetype": "text/x-python",
   "name": "python",
   "nbconvert_exporter": "python",
   "pygments_lexer": "ipython3",
   "version": "3.11.4"
  }
 },
 "nbformat": 4,
 "nbformat_minor": 5
}
