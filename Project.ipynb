{
 "cells": [
  {
   "cell_type": "code",
   "execution_count": 9,
   "id": "13432397",
   "metadata": {},
   "outputs": [
    {
     "name": "stdout",
     "output_type": "stream",
     "text": [
      "Requirement already satisfied: qiskit in c:\\users\\larry\\anaconda3\\envs\\qiskit\\lib\\site-packages (0.44.2)\n",
      "Requirement already satisfied: qiskit-terra==0.25.2.1 in c:\\users\\larry\\anaconda3\\envs\\qiskit\\lib\\site-packages (from qiskit) (0.25.2.1)\n",
      "Requirement already satisfied: rustworkx>=0.13.0 in c:\\users\\larry\\anaconda3\\envs\\qiskit\\lib\\site-packages (from qiskit-terra==0.25.2.1->qiskit) (0.13.2)\n",
      "Requirement already satisfied: numpy>=1.17 in c:\\users\\larry\\anaconda3\\envs\\qiskit\\lib\\site-packages (from qiskit-terra==0.25.2.1->qiskit) (1.26.0)\n",
      "Requirement already satisfied: ply>=3.10 in c:\\users\\larry\\anaconda3\\envs\\qiskit\\lib\\site-packages (from qiskit-terra==0.25.2.1->qiskit) (3.11)\n",
      "Requirement already satisfied: psutil>=5 in c:\\users\\larry\\anaconda3\\envs\\qiskit\\lib\\site-packages (from qiskit-terra==0.25.2.1->qiskit) (5.9.0)\n",
      "Requirement already satisfied: scipy>=1.5 in c:\\users\\larry\\anaconda3\\envs\\qiskit\\lib\\site-packages (from qiskit-terra==0.25.2.1->qiskit) (1.11.3)\n",
      "Requirement already satisfied: sympy>=1.3 in c:\\users\\larry\\anaconda3\\envs\\qiskit\\lib\\site-packages (from qiskit-terra==0.25.2.1->qiskit) (1.12)\n",
      "Requirement already satisfied: dill>=0.3 in c:\\users\\larry\\anaconda3\\envs\\qiskit\\lib\\site-packages (from qiskit-terra==0.25.2.1->qiskit) (0.3.7)\n",
      "Requirement already satisfied: python-dateutil>=2.8.0 in c:\\users\\larry\\anaconda3\\envs\\qiskit\\lib\\site-packages (from qiskit-terra==0.25.2.1->qiskit) (2.8.2)\n",
      "Requirement already satisfied: stevedore>=3.0.0 in c:\\users\\larry\\anaconda3\\envs\\qiskit\\lib\\site-packages (from qiskit-terra==0.25.2.1->qiskit) (5.1.0)\n",
      "Requirement already satisfied: six>=1.5 in c:\\users\\larry\\anaconda3\\envs\\qiskit\\lib\\site-packages (from python-dateutil>=2.8.0->qiskit-terra==0.25.2.1->qiskit) (1.16.0)\n",
      "Requirement already satisfied: pbr!=2.1.0,>=2.0.0 in c:\\users\\larry\\anaconda3\\envs\\qiskit\\lib\\site-packages (from stevedore>=3.0.0->qiskit-terra==0.25.2.1->qiskit) (5.11.1)\n",
      "Requirement already satisfied: mpmath>=0.19 in c:\\users\\larry\\anaconda3\\envs\\qiskit\\lib\\site-packages (from sympy>=1.3->qiskit-terra==0.25.2.1->qiskit) (1.3.0)\n"
     ]
    }
   ],
   "source": [
    "!pip install qiskit"
   ]
  },
  {
   "cell_type": "code",
   "execution_count": 10,
   "id": "8ed72587",
   "metadata": {},
   "outputs": [],
   "source": [
    "import qiskit\n"
   ]
  },
  {
   "cell_type": "code",
   "execution_count": 11,
   "id": "4275e722",
   "metadata": {},
   "outputs": [],
   "source": [
    " from qiskit import QuantumCircuit, QuantumRegister, ClassicalRegister"
   ]
  },
  {
   "cell_type": "code",
   "execution_count": 12,
   "id": "4d760ea2",
   "metadata": {},
   "outputs": [],
   "source": [
    " X = QuantumRegister(1, \"x\")"
   ]
  },
  {
   "cell_type": "code",
   "execution_count": 13,
   "id": "da963edc",
   "metadata": {},
   "outputs": [
    {
     "data": {
      "text/plain": [
       "<qiskit.circuit.instructionset.InstructionSet at 0x235c166c6a0>"
      ]
     },
     "execution_count": 13,
     "metadata": {},
     "output_type": "execute_result"
    }
   ],
   "source": [
    "Y = QuantumRegister(1, \"y\")\n",
    "A = ClassicalRegister(1, \"a\")\n",
    "B = ClassicalRegister(1, \"b\")\n",
    "circuit = QuantumCircuit(Y, X, B, A)\n",
    "circuit.h(Y)\n",
    "circuit.cx(Y, X)"
   ]
  },
  {
   "cell_type": "code",
   "execution_count": 14,
   "id": "52faa4ca",
   "metadata": {},
   "outputs": [
    {
     "data": {
      "text/html": [
       "<pre style=\"word-wrap: normal;white-space: pre;background: #fff0;line-height: 1.1;font-family: &quot;Courier New&quot;,Courier,monospace\">     ┌───┐     ┌─┐   \n",
       "  y: ┤ H ├──■──┤M├───\n",
       "     └───┘┌─┴─┐└╥┘┌─┐\n",
       "  x: ─────┤ X ├─╫─┤M├\n",
       "          └───┘ ║ └╥┘\n",
       "b: 1/═══════════╩══╬═\n",
       "                0  ║ \n",
       "a: 1/══════════════╩═\n",
       "                   0 </pre>"
      ],
      "text/plain": [
       "     ┌───┐     ┌─┐   \n",
       "  y: ┤ H ├──■──┤M├───\n",
       "     └───┘┌─┴─┐└╥┘┌─┐\n",
       "  x: ─────┤ X ├─╫─┤M├\n",
       "          └───┘ ║ └╥┘\n",
       "b: 1/═══════════╩══╬═\n",
       "                0  ║ \n",
       "a: 1/══════════════╩═\n",
       "                   0 "
      ]
     },
     "execution_count": 14,
     "metadata": {},
     "output_type": "execute_result"
    }
   ],
   "source": [
    "circuit.measure(Y, B)\n",
    "circuit.measure(X, A)\n",
    "circuit.draw()"
   ]
  },
  {
   "cell_type": "code",
   "execution_count": 2,
   "id": "6b07b799",
   "metadata": {},
   "outputs": [
    {
     "ename": "SyntaxError",
     "evalue": "invalid syntax (2397504606.py, line 5)",
     "output_type": "error",
     "traceback": [
      "\u001b[1;36m  Cell \u001b[1;32mIn[2], line 5\u001b[1;36m\u001b[0m\n\u001b[1;33m    Deutschs algorithm is a fundamental quantum algorithm that solves a specific problem more efficiently than classical algorithms. In this notebook, we will explore the problem, understand the classical solution, and then delve into Deutschs quantum algorithm to demonstrate its advantages.\u001b[0m\n\u001b[1;37m             ^\u001b[0m\n\u001b[1;31mSyntaxError\u001b[0m\u001b[1;31m:\u001b[0m invalid syntax\n"
     ]
    }
   ],
   "source": [
    "# Deutsch's Algorithm Notebook\n",
    "\n",
    "## Introduction\n",
    "\n",
    "Deutschs algorithm is a fundamental quantum algorithm that solves a specific problem more efficiently than classical algorithms. In this notebook, we will explore the problem, understand the classical solution, and then delve into Deutschs quantum algorithm to demonstrate its advantages.\n",
    "\n",
    "### Problem Statement\n",
    "\n",
    "Consider a classical function \\( f: \\{0,1\\} \\rightarrow \\{0,1\\} \\). The function can be either constant (returns the same value for all inputs) or balanced (returns different values for 0 and 1). The goal is to determine which type of function it is using the fewest possible queries to the function.\n",
    "\n",
    "## Classical Solution\n",
    "\n",
    "In the classical scenario, we would need at least two queries to determine if the function is constant or balanced. One query for each input.\n",
    "\n",
    "## Deutsch's Algorithm\n",
    "\n",
    "Deutschs algorithm can determine the type of the function with only one query, making it more efficient than classical methods.\n",
    "\n",
    "### Quantum Circuit Overview\n",
    "\n",
    "Deutschs algorithm involves the use of a quantum oracle and a quantum circuit that consists of Hadamard gates and measurement operations.\n",
    "\n",
    "#### Quantum Oracle\n",
    "\n",
    "The quantum oracle performs the following transformation:\n",
    "\n",
    "\\[ U_f |x, y\\rangle = |x, y \\oplus f(x)\\rangle \\]\n",
    "\n",
    "where \\( \\oplus \\) denotes bitwise XOR.\n",
    "\n",
    "### Building the Quantum Circuit\n",
    "\n",
    "Lets build the quantum circuit using Qiskit to implement Deutschs algorithm.\n",
    "\n",
    "```python\n",
    "# Import necessary libraries\n",
    "from qiskit import QuantumCircuit, Aer, transpile, assemble\n",
    "\n",
    "# Define the quantum circuit\n",
    "def deutsch_algorithm_circuit():\n",
    "    # Create a quantum circuit with two qubits and one classical bit\n",
    "    qc = QuantumCircuit(2, 1)\n",
    "    \n",
    "    # Apply Hadamard gates to both qubits\n",
    "    qc.h(0)\n",
    "    qc.h(1)\n",
    "    \n",
    "    # Apply the quantum oracle\n",
    "    qc += quantum_oracle()\n",
    "    \n",
    "    # Apply Hadamard gate to the first qubit\n",
    "    qc.h(0)\n",
    "    \n",
    "    # Measure the first qubit\n",
    "    qc.measure(0, 0)\n",
    "    \n",
    "    return qc\n",
    "\n",
    "# Define the quantum oracle\n",
    "def quantum_oracle():\n",
    "    qc = QuantumCircuit(2, name=\"Uf\")\n",
    "    \n",
    "    # Implement the quantum oracle for a specific function f\n",
    "    # Modify this part based on the specific function you want to use\n",
    "    \n",
    "    return qc\n",
    "\n",
    "# Visualize the circuit\n",
    "circuit = deutsch_algorithm_circuit()\n",
    "circuit.draw('mpl')\n"
   ]
  },
  {
   "cell_type": "code",
   "execution_count": null,
   "id": "f6cd839b",
   "metadata": {},
   "outputs": [],
   "source": []
  },
  {
   "cell_type": "code",
   "execution_count": null,
   "id": "e902a132",
   "metadata": {},
   "outputs": [],
   "source": []
  }
 ],
 "metadata": {
  "kernelspec": {
   "display_name": "Python 3 (ipykernel)",
   "language": "python",
   "name": "python3"
  },
  "language_info": {
   "codemirror_mode": {
    "name": "ipython",
    "version": 3
   },
   "file_extension": ".py",
   "mimetype": "text/x-python",
   "name": "python",
   "nbconvert_exporter": "python",
   "pygments_lexer": "ipython3",
   "version": "3.11.4"
  }
 },
 "nbformat": 4,
 "nbformat_minor": 5
}
